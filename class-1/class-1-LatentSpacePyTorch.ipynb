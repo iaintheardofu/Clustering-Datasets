{
  "nbformat": 4,
  "nbformat_minor": 0,
  "metadata": {
    "colab": {
      "provenance": [],
      "machine_shape": "hm",
      "gpuType": "T4",
      "include_colab_link": true
    },
    "kernelspec": {
      "name": "python3",
      "display_name": "Python 3"
    },
    "language_info": {
      "name": "python"
    },
    "accelerator": "GPU"
  },
  "cells": [
    {
      "cell_type": "markdown",
      "metadata": {
        "id": "view-in-github",
        "colab_type": "text"
      },
      "source": [
        "<a href=\"https://colab.research.google.com/github/iaintheardofu/Clustering-Datasets/blob/master/class-1/class-1-LatentSpacePyTorch.ipynb\" target=\"_parent\"><img src=\"https://colab.research.google.com/assets/colab-badge.svg\" alt=\"Open In Colab\"/></a>"
      ]
    },
    {
      "cell_type": "markdown",
      "source": [
        "Name: Michael Pendleton\n",
        "Notebook: class-1-LatentSpacePyTorch.ipynb\n",
        "Link: https://github.com/iaintheardofu/Clustering-Datasets/tree/master/class-1"
      ],
      "metadata": {
        "id": "zpKIbYv7D50H"
      }
    },
    {
      "cell_type": "markdown",
      "source": [
        "The provided code defines and utilizes an Autoencoder neural network for the MNIST dataset. Here's a detailed explanation:\n",
        "\n",
        "- **Autoencoder Class**: This class creates a neural network with encoder and decoder components. The encoder compresses the input image into a lower-dimensional latent space, and the decoder reconstructs the image from this latent space. The network is structured to flatten and process 28x28 grayscale MNIST images.\n",
        "\n",
        "- **Data Loading**: Utilizes PyTorch's DataLoader to efficiently load the MNIST dataset, applying transformations to normalize the images.\n",
        "\n",
        "- **Training Loop**: Iterates over the training dataset, feeding batches of images through the model, calculating the reconstruction loss, and updating the model's weights to minimize this loss, effectively learning to compress and reconstruct the input images.\n",
        "\n",
        "- **Visualization**: After training, the script visualizes a batch of original images and their reconstructions from the autoencoder. It also prints the latent space representations, showcasing what the model has learned to encode.\n",
        "\n",
        "- **Utility Functions**: Includes `imshow` for displaying tensors as images. It unnormalizes the data and uses Matplotlib to plot them.\n",
        "\n",
        "This script encapsulates the end-to-end process of training an autoencoder on the MNIST dataset, visualizing the results, and examining the learned latent space."
      ],
      "metadata": {
        "id": "MXble1sY6GuN"
      }
    },
    {
      "cell_type": "code",
      "source": [
        "import torch\n",
        "import torch.nn as nn\n",
        "import torchvision\n",
        "import torchvision.transforms as transforms\n",
        "from torchvision.datasets import MNIST\n",
        "from torch.utils.data import DataLoader\n",
        "import matplotlib.pyplot as plt\n",
        "import torchvision.utils as vutils\n",
        "import numpy as np"
      ],
      "metadata": {
        "id": "QTp8sYxwBg-1"
      },
      "execution_count": 1,
      "outputs": []
    },
    {
      "cell_type": "markdown",
      "source": [
        " The `Autoencoder` class inherits from `nn.Module`, a base class for all neural network modules in PyTorch. Here's a breakdown of the code and its functionality:\n",
        "\n",
        "### Initialization Method (`__init__`)\n",
        "- **Parameters**: The `__init__` method accepts a single parameter `encoding_dim`, which specifies the size of the latent space where the input data is compressed.\n",
        "- **Encoder**: The encoder part of the autoencoder is designed to compress the input data (in this case, an image) into a lower-dimensional representation called the latent space. It consists of a sequence of layers:\n",
        "  - `nn.Linear(28 * 28, 128)`: This layer flattens the input image (assumed to be 28x28 pixels, typical for MNIST dataset images) into a one-dimensional array and performs a linear transformation to reduce its dimension to 128.\n",
        "  - `nn.ReLU(True)`: A Rectified Linear Unit (ReLU) activation function is applied to introduce non-linearity, helping the model learn complex patterns.\n",
        "  - Another `nn.Linear(128, encoding_dim)`: Further reduces the dimension from 128 to the specified `encoding_dim`.\n",
        "  - Another `nn.ReLU(True)`: Another ReLU activation for non-linearity.\n",
        "- **Decoder**: The decoder part reconstructs the original input data from the compressed representation. It mirrors the encoder structure but in reverse, aiming to expand the compressed data back to its original shape:\n",
        "  - `nn.Linear(encoding_dim, 128)`: Expands the compressed data from `encoding_dim` back to 128.\n",
        "  - `nn.ReLU(True)`: Applies ReLU activation.\n",
        "  - `nn.Linear(128, 28 * 28)`: Transforms the data from 128 back to the flattened image size of 784 (28x28).\n",
        "  - `nn.Sigmoid()`: Applies a sigmoid activation function to ensure the output values are between 0 and 1, suitable for image data where pixel values typically fall within this range.\n",
        "\n",
        "### Forward Method (`forward`)\n",
        "- **Parameter**: The `forward` method defines how the input `x` flows through the network.\n",
        "- **Process**:\n",
        "  - `x.view(-1, 28*28)`: First, the input `x` is reshaped into a one-dimensional array (flattened) if not already done.\n",
        "  - `self.encoder(x)`: The flattened `x` is then passed through the encoder.\n",
        "  - `self.decoder(x)`: The output from the encoder, which is the compressed representation, is fed into the decoder.\n",
        "- **Output**: The final output is reshaped back to the original image dimensions (`-1, 1, 28, 28`), where `-1` is a placeholder that automatically adjusts based on the batch size.\n"
      ],
      "metadata": {
        "id": "Lth1Gula4Sz_"
      }
    },
    {
      "cell_type": "code",
      "source": [
        "class Autoencoder(nn.Module):\n",
        "    def __init__(self, encoding_dim):\n",
        "        super(Autoencoder, self).__init__()\n",
        "        # Encoder: compresses the image into a lower-dimensional latent space\n",
        "        self.encoder = nn.Sequential(\n",
        "            nn.Linear(28 * 28, 128),  # Flatten the image and then linearly transform it\n",
        "            nn.ReLU(True),  # Non-linear activation function\n",
        "            nn.Linear(128, encoding_dim),  # Linear transformation to the encoding dimension\n",
        "            nn.ReLU(True)  # Non-linear activation function\n",
        "        )\n",
        "        # Decoder: reconstructs the image from the latent space\n",
        "        self.decoder = nn.Sequential(\n",
        "            nn.Linear(encoding_dim, 128),  # Linearly transforms the encoding\n",
        "            nn.ReLU(True),  # Non-linear activation function\n",
        "            nn.Linear(128, 28 * 28),  # Transforms back to original image shape\n",
        "            nn.Sigmoid()  # Sigmoid activation to output values between 0 and 1\n",
        "        )\n",
        "\n",
        "    def forward(self, x):\n",
        "        x = self.encoder(x.view(-1, 28*28))  # Encode the input image\n",
        "        x = self.decoder(x)  # Decode the encoded image\n",
        "        return x.view(-1, 1, 28, 28)  # Reshape to the original image dimensions"
      ],
      "metadata": {
        "id": "wWlX07fEBjL8"
      },
      "execution_count": 2,
      "outputs": []
    },
    {
      "cell_type": "code",
      "source": [
        "\n",
        "def imshow(img):\n",
        "    img = img.cpu() / 2 + 0.5  # Unnormalize the image\n",
        "    npimg = img.numpy()  # Convert the tensor to a numpy array\n",
        "    plt.imshow(np.transpose(npimg, (1, 2, 0)))  # Reshape and display the image\n",
        "    plt.show()"
      ],
      "metadata": {
        "id": "yP7S8PazBoD5"
      },
      "execution_count": 3,
      "outputs": []
    },
    {
      "cell_type": "code",
      "source": [
        "# Transform: converts images to PyTorch tensors and normalizes them\n",
        "transform = transforms.Compose([\n",
        "    transforms.ToTensor(),\n",
        "    transforms.Normalize((0.5,), (0.5,))\n",
        "])\n"
      ],
      "metadata": {
        "id": "yJAgqh0TBrMa"
      },
      "execution_count": 4,
      "outputs": []
    },
    {
      "cell_type": "code",
      "source": [
        "import os\n",
        "import urllib.request\n",
        "from torchvision.datasets import MNIST\n",
        "from torch.utils.data import DataLoader\n",
        "import torchvision.transforms as transforms\n",
        "\n",
        "mnist_dir = \"./data/MNIST/raw/\"\n",
        "os.makedirs(mnist_dir, exist_ok=True)\n",
        "\n",
        "base_url = \"https://github.com/nispoe/GWU-SEAS-8525/raw/main/class-1/\"\n",
        "files = [\n",
        "    \"train-images-idx3-ubyte.gz\",\n",
        "    \"train-labels-idx1-ubyte.gz\",\n",
        "    \"t10k-images-idx3-ubyte.gz\",\n",
        "    \"t10k-labels-idx1-ubyte.gz\"\n",
        "]\n",
        "\n",
        "for file in files:\n",
        "    file_path = os.path.join(mnist_dir, file)\n",
        "    if not os.path.exists(file_path):\n",
        "        print(f\"Downloading {file}...\")\n",
        "        urllib.request.urlretrieve(base_url + file, file_path)\n",
        "\n",
        "transform = transforms.Compose([transforms.ToTensor()])"
      ],
      "metadata": {
        "id": "ou-25YXmrGFQ"
      },
      "execution_count": 5,
      "outputs": []
    },
    {
      "cell_type": "code",
      "source": [
        "import gzip\n",
        "import shutil\n",
        "\n",
        "gz_files = [f for f in os.listdir(mnist_dir) if f.endswith(\".gz\")]\n",
        "\n",
        "for file in gz_files:\n",
        "    gz_path = os.path.join(mnist_dir, file)\n",
        "    output_path = gz_path.replace(\".gz\", \"\")  # Remove .gz extension\n",
        "\n",
        "    # Extract the file\n",
        "    with gzip.open(gz_path, 'rb') as f_in:\n",
        "        with open(output_path, 'wb') as f_out:\n",
        "            shutil.copyfileobj(f_in, f_out)"
      ],
      "metadata": {
        "id": "Ql170ZPyry6e"
      },
      "execution_count": 6,
      "outputs": []
    },
    {
      "cell_type": "code",
      "source": [
        "# MNIST dataset loading\n",
        "#train_dataset = MNIST(root='./data', train=True, download=True, transform=transform)\n",
        "train_dataset = MNIST(root='./data', train=True, download=False, transform=transform)\n",
        "train_loader = DataLoader(dataset=train_dataset, batch_size=64, shuffle=True)"
      ],
      "metadata": {
        "id": "cQpswSgnBw4E"
      },
      "execution_count": 7,
      "outputs": []
    },
    {
      "cell_type": "code",
      "source": [
        "device = torch.device(\"cuda\" if torch.cuda.is_available() else \"cpu\")\n",
        "model = Autoencoder(encoding_dim=64).to(device)\n",
        "criterion = nn.MSELoss()  # Loss function\n",
        "optimizer = torch.optim.Adam(model.parameters(), lr=1e-3)  # Optimizer"
      ],
      "metadata": {
        "id": "W8NemtCtB35p"
      },
      "execution_count": 8,
      "outputs": []
    },
    {
      "cell_type": "code",
      "source": [
        "from torch.amp import GradScaler, autocast  # Updated import\n",
        "\n",
        "num_epochs = 20\n",
        "# Correct way to initialize GradScaler\n",
        "scaler = GradScaler(device=\"cuda\")  # New syntax\n",
        "\n",
        "for epoch in range(num_epochs):\n",
        "  for data in train_loader:\n",
        "        img, _ = data\n",
        "        img = img.to(device)\n",
        "\n",
        "        with autocast(device_type=\"cuda\"):  # Updated syntax\n",
        "          output = model(img)\n",
        "          loss = criterion(output, img)\n",
        "\n",
        "        optimizer.zero_grad()\n",
        "        scaler.scale(loss).backward()\n",
        "        scaler.step(optimizer)\n",
        "        scaler.update()\n",
        "\n",
        "  print(f\"Epoch [{epoch+1}/{num_epochs}], Loss: {loss.item():.4f}\")"
      ],
      "metadata": {
        "colab": {
          "base_uri": "https://localhost:8080/"
        },
        "id": "GRk72snY6LPD",
        "outputId": "63d080e6-de26-41ad-ee71-c31970b26436"
      },
      "execution_count": 9,
      "outputs": [
        {
          "output_type": "stream",
          "name": "stdout",
          "text": [
            "Epoch [1/20], Loss: 0.0207\n",
            "Epoch [2/20], Loss: 0.0162\n",
            "Epoch [3/20], Loss: 0.0135\n",
            "Epoch [4/20], Loss: 0.0103\n",
            "Epoch [5/20], Loss: 0.0098\n",
            "Epoch [6/20], Loss: 0.0077\n",
            "Epoch [7/20], Loss: 0.0071\n",
            "Epoch [8/20], Loss: 0.0085\n",
            "Epoch [9/20], Loss: 0.0081\n",
            "Epoch [10/20], Loss: 0.0075\n",
            "Epoch [11/20], Loss: 0.0058\n",
            "Epoch [12/20], Loss: 0.0067\n",
            "Epoch [13/20], Loss: 0.0059\n",
            "Epoch [14/20], Loss: 0.0048\n",
            "Epoch [15/20], Loss: 0.0054\n",
            "Epoch [16/20], Loss: 0.0061\n",
            "Epoch [17/20], Loss: 0.0059\n",
            "Epoch [18/20], Loss: 0.0057\n",
            "Epoch [19/20], Loss: 0.0072\n",
            "Epoch [20/20], Loss: 0.0056\n"
          ]
        }
      ]
    },
    {
      "cell_type": "code",
      "source": [
        "# Load a batch of test images\n",
        "dataiter = iter(train_loader)\n",
        "images, _ = next(dataiter)\n",
        "images = images.to(device)\n",
        "\n",
        "# Show original images\n",
        "print(\"Original Images\")\n",
        "imshow(vutils.make_grid(images[:4].cpu(), normalize=True))\n",
        "\n",
        "# Encode + Decode (inference)\n",
        "with torch.no_grad():\n",
        "\tencoded_imgs = model.encoder(images.view(-1, 28 * 28)[:4])\n",
        "\tdecoded_imgs = model.decoder(encoded_imgs).view(-1, 1, 28, 28)\n",
        "\n",
        "# Show reconstructed images\n",
        "print(\"Reconstructed Images\")\n",
        "imshow(vutils.make_grid(decoded_imgs[:4].cpu(), normalize=True))\n",
        "\n",
        "# Print latent vectors\n",
        "print(\"Latent space representations:\")\n",
        "print(encoded_imgs)"
      ],
      "metadata": {
        "colab": {
          "base_uri": "https://localhost:8080/",
          "height": 1000
        },
        "id": "AXNoaAm1CNnM",
        "outputId": "9fbee49b-b027-480e-907b-5676b6c4259f"
      },
      "execution_count": 10,
      "outputs": [
        {
          "output_type": "stream",
          "name": "stdout",
          "text": [
            "Original Images\n"
          ]
        },
        {
          "output_type": "display_data",
          "data": {
            "text/plain": [
              "<Figure size 640x480 with 1 Axes>"
            ],
            "image/png": "[encoded data removed]"
          },
          "metadata": {}
        },
        {
          "output_type": "stream",
          "name": "stdout",
          "text": [
            "Reconstructed Images\n"
          ]
        },
        {
          "output_type": "display_data",
          "data": {
            "text/plain": [
              "<Figure size 640x480 with 1 Axes>"
            ],
            "image/png": "[encoded data removed]"
          },
          "metadata": {}
        },
        {
          "output_type": "stream",
          "name": "stdout",
          "text": [
            "Latent space representations:\n",
            "tensor([[ 0.0000,  0.0000,  8.7625,  0.0000,  5.4033,  0.0000,  8.2284, 11.9488,\n",
            "          6.0957,  0.0000,  7.9303,  6.1205,  4.2303,  6.8919,  4.5741,  6.8321,\n",
            "         13.4202, 11.9029,  6.5316,  0.0000, 10.9383,  9.0687,  0.0000,  7.1502,\n",
            "          5.5515,  9.9374,  5.6177,  7.5329,  9.4078,  0.0000, 12.9713,  9.5262,\n",
            "          1.8753, 11.0398, 10.8061,  4.7136,  6.7834, 16.1453,  5.2802, 11.0750,\n",
            "          9.4370,  6.8964,  0.0000, 13.1595,  0.0000,  0.0000,  0.0000,  0.0000,\n",
            "         13.2130,  0.0000,  8.1831,  0.0000,  7.7944,  0.0000,  0.0000,  0.0000,\n",
            "          6.6612, 14.3476,  0.0000,  0.0000,  5.9781, 12.1672,  0.0000,  4.5154],\n",
            "        [ 0.0000,  0.0000,  5.7751,  0.0000,  8.5459,  0.0000,  7.7984,  5.7947,\n",
            "          5.9626,  0.0000,  5.6308,  6.3228,  3.6942,  5.2382,  5.3018,  1.8575,\n",
            "          3.0440,  4.4724,  2.9623,  0.0000,  6.3259, 10.7115,  0.0000,  3.7678,\n",
            "          3.5271,  3.4847,  4.5884,  8.8562,  3.1084,  0.0000,  5.7922,  6.0053,\n",
            "          7.2994,  4.5386,  3.7901,  2.0387,  2.1580,  8.6475,  5.4039,  5.1738,\n",
            "          3.2202,  0.2582,  0.0000,  6.4100,  0.0000,  0.0000,  0.0000,  0.0000,\n",
            "          7.2031,  0.0000,  2.1125,  0.0000,  6.6100,  0.0000,  0.0000,  0.0000,\n",
            "          6.2056,  4.6215,  0.0000,  0.0000,  7.6169,  2.6239,  0.0000,  6.3315],\n",
            "        [ 0.0000,  0.0000,  9.8033,  0.0000,  2.5581,  0.0000,  8.6714,  5.6282,\n",
            "         12.8173,  0.0000,  6.4573,  2.7360,  6.8151,  6.5362,  5.9282,  0.5041,\n",
            "         10.3608, 12.7182,  9.3883,  0.0000,  4.0016,  6.3220,  0.0000,  6.4004,\n",
            "         10.4618,  3.2086,  2.9151,  4.3388, 12.1845,  0.0000,  8.5738,  7.9664,\n",
            "          8.7263, 10.9125,  7.3008,  4.7151,  5.1349,  7.4674, 13.2267,  9.1157,\n",
            "          5.8359,  7.2928,  0.0000,  4.9181,  0.0000,  0.0000,  0.0000,  0.0000,\n",
            "         12.6168,  0.0000,  8.2602,  0.0000, 10.4199,  0.0000,  0.0000,  0.0000,\n",
            "          9.9746, 13.0238,  0.0000,  0.0000,  4.7677, 12.8247,  0.0000,  8.0099],\n",
            "        [ 0.0000,  0.0000,  7.8836,  0.0000,  6.8589,  0.0000,  8.4397,  4.2235,\n",
            "          6.2326,  0.0000, 10.6961,  2.0773,  6.3850,  3.5899,  3.0256,  3.4583,\n",
            "          5.8650,  4.0422,  4.0537,  0.0000,  9.3988,  3.3936,  0.0000,  8.0534,\n",
            "          5.8241,  6.0863,  6.9737,  3.5332,  8.9120,  0.0000,  6.4802,  9.5154,\n",
            "          5.5494,  6.6247,  2.7458,  5.1390,  5.7052,  7.6746,  6.8762,  1.1439,\n",
            "         10.1147,  6.5416,  0.0000, 11.6148,  0.0000,  0.0000,  0.0000,  0.0000,\n",
            "          3.8102,  0.0000,  3.3930,  0.0000,  9.2794,  0.0000,  0.0000,  0.0000,\n",
            "          3.5385,  6.5731,  0.0000,  0.0000,  5.7644,  5.9159,  0.0000,  5.1855]],\n",
            "       device='cuda:0')\n"
          ]
        }
      ]
    },
    {
      "cell_type": "code",
      "source": [
        "# Visualization of the original and reconstructed images\n",
        "dataiter = iter(train_loader)\n",
        "images, _ = next(dataiter)\n",
        "images = images.to(device)\n",
        "\n",
        "# Display original images\n",
        "print(\"Original Images\")\n",
        "imshow(vutils.make_grid(images[:4], normalize=True))\n",
        "\n",
        "# Encoded and decoded images\n",
        "with torch.no_grad():\n",
        "    encoded_imgs = model.encoder(images.view(-1, 28*28)[:4])\n",
        "    decoded_imgs = model.decoder(encoded_imgs).view(-1, 1, 28, 28)\n",
        "\n",
        "\n",
        "# Display reconstructed images\n",
        "print(\"Original Representation\")\n",
        "print(img)\n",
        "\n",
        "# Print latent space\n",
        "print(\"Latent space representations:\")\n",
        "print(encoded_imgs)"
      ],
      "metadata": {
        "colab": {
          "base_uri": "https://localhost:8080/",
          "height": 1000
        },
        "id": "FCsJeFk2B2Fi",
        "outputId": "7434e42a-2a92-4502-d1f8-174fc3d40305"
      },
      "execution_count": 11,
      "outputs": [
        {
          "output_type": "stream",
          "name": "stdout",
          "text": [
            "Original Images\n"
          ]
        },
        {
          "output_type": "display_data",
          "data": {
            "text/plain": [
              "<Figure size 640x480 with 1 Axes>"
            ],
            "image/png": "[encoded data removed]"
          },
          "metadata": {}
        },
        {
          "output_type": "stream",
          "name": "stdout",
          "text": [
            "Original Representation\n",
            "tensor([[[[0., 0., 0.,  ..., 0., 0., 0.],\n",
            "          [0., 0., 0.,  ..., 0., 0., 0.],\n",
            "          [0., 0., 0.,  ..., 0., 0., 0.],\n",
            "          ...,\n",
            "          [0., 0., 0.,  ..., 0., 0., 0.],\n",
            "          [0., 0., 0.,  ..., 0., 0., 0.],\n",
            "          [0., 0., 0.,  ..., 0., 0., 0.]]],\n",
            "\n",
            "\n",
            "        [[[0., 0., 0.,  ..., 0., 0., 0.],\n",
            "          [0., 0., 0.,  ..., 0., 0., 0.],\n",
            "          [0., 0., 0.,  ..., 0., 0., 0.],\n",
            "          ...,\n",
            "          [0., 0., 0.,  ..., 0., 0., 0.],\n",
            "          [0., 0., 0.,  ..., 0., 0., 0.],\n",
            "          [0., 0., 0.,  ..., 0., 0., 0.]]],\n",
            "\n",
            "\n",
            "        [[[0., 0., 0.,  ..., 0., 0., 0.],\n",
            "          [0., 0., 0.,  ..., 0., 0., 0.],\n",
            "          [0., 0., 0.,  ..., 0., 0., 0.],\n",
            "          ...,\n",
            "          [0., 0., 0.,  ..., 0., 0., 0.],\n",
            "          [0., 0., 0.,  ..., 0., 0., 0.],\n",
            "          [0., 0., 0.,  ..., 0., 0., 0.]]],\n",
            "\n",
            "\n",
            "        ...,\n",
            "\n",
            "\n",
            "        [[[0., 0., 0.,  ..., 0., 0., 0.],\n",
            "          [0., 0., 0.,  ..., 0., 0., 0.],\n",
            "          [0., 0., 0.,  ..., 0., 0., 0.],\n",
            "          ...,\n",
            "          [0., 0., 0.,  ..., 0., 0., 0.],\n",
            "          [0., 0., 0.,  ..., 0., 0., 0.],\n",
            "          [0., 0., 0.,  ..., 0., 0., 0.]]],\n",
            "\n",
            "\n",
            "        [[[0., 0., 0.,  ..., 0., 0., 0.],\n",
            "          [0., 0., 0.,  ..., 0., 0., 0.],\n",
            "          [0., 0., 0.,  ..., 0., 0., 0.],\n",
            "          ...,\n",
            "          [0., 0., 0.,  ..., 0., 0., 0.],\n",
            "          [0., 0., 0.,  ..., 0., 0., 0.],\n",
            "          [0., 0., 0.,  ..., 0., 0., 0.]]],\n",
            "\n",
            "\n",
            "        [[[0., 0., 0.,  ..., 0., 0., 0.],\n",
            "          [0., 0., 0.,  ..., 0., 0., 0.],\n",
            "          [0., 0., 0.,  ..., 0., 0., 0.],\n",
            "          ...,\n",
            "          [0., 0., 0.,  ..., 0., 0., 0.],\n",
            "          [0., 0., 0.,  ..., 0., 0., 0.],\n",
            "          [0., 0., 0.,  ..., 0., 0., 0.]]]], device='cuda:0')\n",
            "Latent space representations:\n",
            "tensor([[ 0.0000,  0.0000, 10.0202,  0.0000,  7.1282,  0.0000,  6.3411,  3.7703,\n",
            "         12.0098,  0.0000,  6.4458,  5.2005,  6.9179,  6.1214,  6.5720,  5.5280,\n",
            "          4.5533,  9.9380,  4.9159,  0.0000,  3.3686,  4.9302,  0.0000,  7.3385,\n",
            "          2.7863,  9.6075,  3.4873,  5.8486, 10.0457,  0.0000,  7.3183,  9.6496,\n",
            "          3.4018,  5.3591,  6.9841,  8.0412,  4.9315, 13.3759,  6.0687,  6.7454,\n",
            "          3.5094,  2.1696,  0.0000,  4.4789,  0.0000,  0.0000,  0.0000,  0.0000,\n",
            "          8.5719,  0.0000,  3.5777,  0.0000,  7.8255,  0.0000,  0.0000,  0.0000,\n",
            "          6.4060,  4.2857,  0.0000,  0.0000,  5.6429,  6.1524,  0.0000,  4.5079],\n",
            "        [ 0.0000,  0.0000,  2.0969,  0.0000,  3.3796,  0.0000,  9.1649,  8.9103,\n",
            "          7.4805,  0.0000, 11.0209,  6.2340,  9.8112,  6.4614,  6.8574,  8.1439,\n",
            "         11.7795,  6.3417,  6.1166,  0.0000,  9.2810,  7.1024,  0.0000,  9.9169,\n",
            "          7.0075,  4.4556,  2.2309,  5.0068,  7.8775,  0.0000,  8.1050,  6.8183,\n",
            "          3.5948,  4.8284,  5.0359,  7.2615,  5.7812,  7.1617,  7.6556, 11.0150,\n",
            "         12.0370,  6.5450,  0.0000, 14.3669,  0.0000,  0.0000,  0.0000,  0.0000,\n",
            "          1.0726,  0.0000,  5.7500,  0.0000, 11.2143,  0.0000,  0.0000,  0.0000,\n",
            "          9.0803,  9.8126,  0.0000,  0.0000, 11.0575, 10.0353,  0.0000,  5.7564],\n",
            "        [ 0.0000,  0.0000,  7.6386,  0.0000,  3.2215,  0.0000,  4.2649,  4.4189,\n",
            "          6.2309,  0.0000,  6.0190,  6.6337,  5.0160,  3.5521,  3.8605,  3.1119,\n",
            "          1.3403,  4.8353,  5.0220,  0.0000,  1.2879,  6.4713,  0.0000,  3.6021,\n",
            "          3.5485,  5.0720,  4.8763,  1.8590,  7.4245,  0.0000,  6.8139,  1.5077,\n",
            "          5.2506,  5.1189,  3.0788,  2.8509,  7.0178,  9.1023,  2.6437, 11.2278,\n",
            "          4.1045,  1.4869,  0.0000,  7.3515,  0.0000,  0.0000,  0.0000,  0.0000,\n",
            "          6.1681,  0.0000,  2.1143,  0.0000,  9.3691,  0.0000,  0.0000,  0.0000,\n",
            "          5.1555,  3.8503,  0.0000,  0.0000,  7.0571,  2.8975,  0.0000,  2.6126],\n",
            "        [ 0.0000,  0.0000,  7.3439,  0.0000,  4.4411,  0.0000,  5.2133,  5.3807,\n",
            "          6.9861,  0.0000,  4.7479,  4.3069, 10.7481,  4.5100,  8.1709,  8.1745,\n",
            "          5.6192, 11.6345,  3.3024,  0.0000,  6.2849, 12.5591,  0.0000,  8.9691,\n",
            "          6.2669,  8.0516,  4.9402,  5.5656,  9.4486,  0.0000,  5.9860,  1.6390,\n",
            "          5.3423, 11.4552, 11.1596,  6.2497,  9.2270,  4.7357,  5.1439, 14.8233,\n",
            "         11.8043,  4.7672,  0.0000,  8.4888,  0.0000,  0.0000,  0.0000,  0.0000,\n",
            "          7.3775,  0.0000,  7.1302,  0.0000,  5.9100,  0.0000,  0.0000,  0.0000,\n",
            "          2.9630,  7.8749,  0.0000,  0.0000,  7.6781,  6.8518,  0.0000,  3.0532]],\n",
            "       device='cuda:0')\n"
          ]
        }
      ]
    }
  ]
}