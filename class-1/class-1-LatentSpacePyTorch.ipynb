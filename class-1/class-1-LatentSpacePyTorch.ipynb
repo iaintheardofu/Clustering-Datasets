{
  "nbformat": 4,
  "nbformat_minor": 0,
  "metadata": {
    "colab": {
      "provenance": [],
      "machine_shape": "hm",
      "gpuType": "T4",
      "include_colab_link": true
    },
    "kernelspec": {
      "name": "python3",
      "display_name": "Python 3"
    },
    "language_info": {
      "name": "python"
    },
    "accelerator": "GPU"
  },
  "cells": [
    {
      "cell_type": "markdown",
      "metadata": {
        "id": "view-in-github",
        "colab_type": "text"
      },
      "source": [
        "<a href=\"https://colab.research.google.com/github/iaintheardofu/Clustering-Datasets/blob/master/class-1/class-1-LatentSpacePyTorch.ipynb\" target=\"_parent\"><img src=\"https://colab.research.google.com/assets/colab-badge.svg\" alt=\"Open In Colab\"/></a>"
      ]
    },
    {
      "cell_type": "markdown",
      "source": [
        "The provided code defines and utilizes an Autoencoder neural network for the MNIST dataset. Here's a detailed explanation:\n",
        "\n",
        "- **Autoencoder Class**: This class creates a neural network with encoder and decoder components. The encoder compresses the input image into a lower-dimensional latent space, and the decoder reconstructs the image from this latent space. The network is structured to flatten and process 28x28 grayscale MNIST images.\n",
        "\n",
        "- **Data Loading**: Utilizes PyTorch's DataLoader to efficiently load the MNIST dataset, applying transformations to normalize the images.\n",
        "\n",
        "- **Training Loop**: Iterates over the training dataset, feeding batches of images through the model, calculating the reconstruction loss, and updating the model's weights to minimize this loss, effectively learning to compress and reconstruct the input images.\n",
        "\n",
        "- **Visualization**: After training, the script visualizes a batch of original images and their reconstructions from the autoencoder. It also prints the latent space representations, showcasing what the model has learned to encode.\n",
        "\n",
        "- **Utility Functions**: Includes `imshow` for displaying tensors as images. It unnormalizes the data and uses Matplotlib to plot them.\n",
        "\n",
        "This script encapsulates the end-to-end process of training an autoencoder on the MNIST dataset, visualizing the results, and examining the learned latent space."
      ],
      "metadata": {
        "id": "MXble1sY6GuN"
      }
    },
    {
      "cell_type": "code",
      "source": [
        "import torch\n",
        "import torch.nn as nn\n",
        "import torchvision\n",
        "import torchvision.transforms as transforms\n",
        "from torchvision.datasets import MNIST\n",
        "from torch.utils.data import DataLoader\n",
        "import matplotlib.pyplot as plt\n",
        "import torchvision.utils as vutils\n",
        "import numpy as np"
      ],
      "metadata": {
        "id": "QTp8sYxwBg-1"
      },
      "execution_count": 1,
      "outputs": []
    },
    {
      "cell_type": "markdown",
      "source": [
        " The `Autoencoder` class inherits from `nn.Module`, a base class for all neural network modules in PyTorch. Here's a breakdown of the code and its functionality:\n",
        "\n",
        "### Initialization Method (`__init__`)\n",
        "- **Parameters**: The `__init__` method accepts a single parameter `encoding_dim`, which specifies the size of the latent space where the input data is compressed.\n",
        "- **Encoder**: The encoder part of the autoencoder is designed to compress the input data (in this case, an image) into a lower-dimensional representation called the latent space. It consists of a sequence of layers:\n",
        "  - `nn.Linear(28 * 28, 128)`: This layer flattens the input image (assumed to be 28x28 pixels, typical for MNIST dataset images) into a one-dimensional array and performs a linear transformation to reduce its dimension to 128.\n",
        "  - `nn.ReLU(True)`: A Rectified Linear Unit (ReLU) activation function is applied to introduce non-linearity, helping the model learn complex patterns.\n",
        "  - Another `nn.Linear(128, encoding_dim)`: Further reduces the dimension from 128 to the specified `encoding_dim`.\n",
        "  - Another `nn.ReLU(True)`: Another ReLU activation for non-linearity.\n",
        "- **Decoder**: The decoder part reconstructs the original input data from the compressed representation. It mirrors the encoder structure but in reverse, aiming to expand the compressed data back to its original shape:\n",
        "  - `nn.Linear(encoding_dim, 128)`: Expands the compressed data from `encoding_dim` back to 128.\n",
        "  - `nn.ReLU(True)`: Applies ReLU activation.\n",
        "  - `nn.Linear(128, 28 * 28)`: Transforms the data from 128 back to the flattened image size of 784 (28x28).\n",
        "  - `nn.Sigmoid()`: Applies a sigmoid activation function to ensure the output values are between 0 and 1, suitable for image data where pixel values typically fall within this range.\n",
        "\n",
        "### Forward Method (`forward`)\n",
        "- **Parameter**: The `forward` method defines how the input `x` flows through the network.\n",
        "- **Process**:\n",
        "  - `x.view(-1, 28*28)`: First, the input `x` is reshaped into a one-dimensional array (flattened) if not already done.\n",
        "  - `self.encoder(x)`: The flattened `x` is then passed through the encoder.\n",
        "  - `self.decoder(x)`: The output from the encoder, which is the compressed representation, is fed into the decoder.\n",
        "- **Output**: The final output is reshaped back to the original image dimensions (`-1, 1, 28, 28`), where `-1` is a placeholder that automatically adjusts based on the batch size.\n"
      ],
      "metadata": {
        "id": "Lth1Gula4Sz_"
      }
    },
    {
      "cell_type": "code",
      "source": [
        "class Autoencoder(nn.Module):\n",
        "    def __init__(self, encoding_dim):\n",
        "        super(Autoencoder, self).__init__()\n",
        "        # Encoder: compresses the image into a lower-dimensional latent space\n",
        "        self.encoder = nn.Sequential(\n",
        "            nn.Linear(28 * 28, 128),  # Flatten the image and then linearly transform it\n",
        "            nn.ReLU(True),  # Non-linear activation function\n",
        "            nn.Linear(128, encoding_dim),  # Linear transformation to the encoding dimension\n",
        "            nn.ReLU(True)  # Non-linear activation function\n",
        "        )\n",
        "        # Decoder: reconstructs the image from the latent space\n",
        "        self.decoder = nn.Sequential(\n",
        "            nn.Linear(encoding_dim, 128),  # Linearly transforms the encoding\n",
        "            nn.ReLU(True),  # Non-linear activation function\n",
        "            nn.Linear(128, 28 * 28),  # Transforms back to original image shape\n",
        "            nn.Sigmoid()  # Sigmoid activation to output values between 0 and 1\n",
        "        )\n",
        "\n",
        "    def forward(self, x):\n",
        "        x = self.encoder(x.view(-1, 28*28))  # Encode the input image\n",
        "        x = self.decoder(x)  # Decode the encoded image\n",
        "        return x.view(-1, 1, 28, 28)  # Reshape to the original image dimensions"
      ],
      "metadata": {
        "id": "wWlX07fEBjL8"
      },
      "execution_count": 2,
      "outputs": []
    },
    {
      "cell_type": "code",
      "source": [
        "\n",
        "def imshow(img):\n",
        "    img = img.cpu() / 2 + 0.5  # Unnormalize the image\n",
        "    npimg = img.numpy()  # Convert the tensor to a numpy array\n",
        "    plt.imshow(np.transpose(npimg, (1, 2, 0)))  # Reshape and display the image\n",
        "    plt.show()"
      ],
      "metadata": {
        "id": "yP7S8PazBoD5"
      },
      "execution_count": 3,
      "outputs": []
    },
    {
      "cell_type": "code",
      "source": [
        "# Transform: converts images to PyTorch tensors and normalizes them\n",
        "transform = transforms.Compose([\n",
        "    transforms.ToTensor(),\n",
        "    transforms.Normalize((0.5,), (0.5,))\n",
        "])\n"
      ],
      "metadata": {
        "id": "yJAgqh0TBrMa"
      },
      "execution_count": 4,
      "outputs": []
    },
    {
      "cell_type": "code",
      "source": [
        "import os\n",
        "import urllib.request\n",
        "from torchvision.datasets import MNIST\n",
        "from torch.utils.data import DataLoader\n",
        "import torchvision.transforms as transforms\n",
        "\n",
        "mnist_dir = \"./data/MNIST/raw/\"\n",
        "os.makedirs(mnist_dir, exist_ok=True)\n",
        "\n",
        "base_url = \"https://github.com/nispoe/GWU-SEAS-8525/raw/main/class-1/\"\n",
        "files = [\n",
        "    \"train-images-idx3-ubyte.gz\",\n",
        "    \"train-labels-idx1-ubyte.gz\",\n",
        "    \"t10k-images-idx3-ubyte.gz\",\n",
        "    \"t10k-labels-idx1-ubyte.gz\"\n",
        "]\n",
        "\n",
        "for file in files:\n",
        "    file_path = os.path.join(mnist_dir, file)\n",
        "    if not os.path.exists(file_path):\n",
        "        print(f\"Downloading {file}...\")\n",
        "        urllib.request.urlretrieve(base_url + file, file_path)\n",
        "\n",
        "transform = transforms.Compose([transforms.ToTensor()])"
      ],
      "metadata": {
        "id": "ou-25YXmrGFQ"
      },
      "execution_count": 5,
      "outputs": []
    },
    {
      "cell_type": "code",
      "source": [
        "import gzip\n",
        "import shutil\n",
        "\n",
        "gz_files = [f for f in os.listdir(mnist_dir) if f.endswith(\".gz\")]\n",
        "\n",
        "for file in gz_files:\n",
        "    gz_path = os.path.join(mnist_dir, file)\n",
        "    output_path = gz_path.replace(\".gz\", \"\")  # Remove .gz extension\n",
        "\n",
        "    # Extract the file\n",
        "    with gzip.open(gz_path, 'rb') as f_in:\n",
        "        with open(output_path, 'wb') as f_out:\n",
        "            shutil.copyfileobj(f_in, f_out)"
      ],
      "metadata": {
        "id": "Ql170ZPyry6e"
      },
      "execution_count": 6,
      "outputs": []
    },
    {
      "cell_type": "code",
      "source": [
        "# MNIST dataset loading\n",
        "#train_dataset = MNIST(root='./data', train=True, download=True, transform=transform)\n",
        "train_dataset = MNIST(root='./data', train=True, download=False, transform=transform)\n",
        "train_loader = DataLoader(dataset=train_dataset, batch_size=64, shuffle=True)"
      ],
      "metadata": {
        "id": "cQpswSgnBw4E"
      },
      "execution_count": 7,
      "outputs": []
    },
    {
      "cell_type": "code",
      "source": [
        "device = torch.device(\"cuda\" if torch.cuda.is_available() else \"cpu\")\n",
        "model = Autoencoder(encoding_dim=64).to(device)\n",
        "criterion = nn.MSELoss()  # Loss function\n",
        "optimizer = torch.optim.Adam(model.parameters(), lr=1e-3)  # Optimizer"
      ],
      "metadata": {
        "id": "W8NemtCtB35p"
      },
      "execution_count": 8,
      "outputs": []
    },
    {
      "cell_type": "code",
      "source": [
        "from torch.amp import GradScaler, autocast  # Updated import\n",
        "\n",
        "num_epochs = 20\n",
        "# Correct way to initialize GradScaler\n",
        "scaler = GradScaler(device=\"cuda\")  # New syntax\n",
        "\n",
        "for epoch in range(num_epochs):\n",
        "  for data in train_loader:\n",
        "        img, _ = data\n",
        "        img = img.to(device)\n",
        "\n",
        "        with autocast(device_type=\"cuda\"):  # Updated syntax\n",
        "          output = model(img)\n",
        "          loss = criterion(output, img)\n",
        "\n",
        "        optimizer.zero_grad()\n",
        "        scaler.scale(loss).backward()\n",
        "        scaler.step(optimizer)\n",
        "        scaler.update()\n",
        "\n",
        "  print(f\"Epoch [{epoch+1}/{num_epochs}], Loss: {loss.item():.4f}\")"
      ],
      "metadata": {
        "colab": {
          "base_uri": "https://localhost:8080/"
        },
        "id": "GRk72snY6LPD",
        "outputId": "b3e64e40-bff4-49d1-94e2-95b46dd78dbd"
      },
      "execution_count": 9,
      "outputs": [
        {
          "output_type": "stream",
          "name": "stdout",
          "text": [
            "Epoch [1/5], Loss: 0.0200\n",
            "Epoch [2/5], Loss: 0.0131\n",
            "Epoch [3/5], Loss: 0.0105\n",
            "Epoch [4/5], Loss: 0.0106\n",
            "Epoch [5/5], Loss: 0.0077\n"
          ]
        }
      ]
    },
    {
      "cell_type": "code",
      "source": [
        "# Load a batch of test images\n",
        "dataiter = iter(train_loader)\n",
        "images, _ = next(dataiter)\n",
        "images = images.to(device)\n",
        "\n",
        "# Show original images\n",
        "print(\"Original Images\")\n",
        "imshow(vutils.make_grid(images[:4].cpu(), normalize=True))\n",
        "\n",
        "# Encode + Decode (inference)\n",
        "with torch.no_grad():\n",
        "\tencoded_imgs = model.encoder(images.view(-1, 28 * 28)[:4])\n",
        "\tdecoded_imgs = model.decoder(encoded_imgs).view(-1, 1, 28, 28)\n",
        "\n",
        "# Show reconstructed images\n",
        "print(\"Reconstructed Images\")\n",
        "imshow(vutils.make_grid(decoded_imgs[:4].cpu(), normalize=True))\n",
        "\n",
        "# Print latent vectors\n",
        "print(\"Latent space representations:\")\n",
        "print(encoded_imgs)"
      ],
      "metadata": {
        "id": "AXNoaAm1CNnM"
      },
      "execution_count": null,
      "outputs": []
    },
    {
      "cell_type": "code",
      "source": [
        "# Visualization of the original and reconstructed images\n",
        "dataiter = iter(train_loader)\n",
        "images, _ = next(dataiter)\n",
        "images = images.to(device)\n",
        "\n",
        "# Display original images\n",
        "print(\"Original Images\")\n",
        "imshow(vutils.make_grid(images[:4], normalize=True))\n",
        "\n",
        "# Encoded and decoded images\n",
        "with torch.no_grad():\n",
        "    encoded_imgs = model.encoder(images.view(-1, 28*28)[:4])\n",
        "    decoded_imgs = model.decoder(encoded_imgs).view(-1, 1, 28, 28)\n",
        "\n",
        "\n",
        "# Display reconstructed images\n",
        "print(\"Original Representation\")\n",
        "print(img)\n",
        "\n",
        "# Print latent space\n",
        "print(\"Latent space representations:\")\n",
        "print(encoded_imgs)"
      ],
      "metadata": {
        "colab": {
          "base_uri": "https://localhost:8080/",
          "height": 1000
        },
        "id": "FCsJeFk2B2Fi",
        "outputId": "c97ce486-6b64-4204-c986-9e8358dffb98"
      },
      "execution_count": 10,
      "outputs": [
        {
          "output_type": "stream",
          "name": "stdout",
          "text": [
            "Original Images\n"
          ]
        },
        {
          "output_type": "display_data",
          "data": {
            "text/plain": [
              "<Figure size 640x480 with 1 Axes>"
            ],
            "image/png": "[encoded data removed]"
          },
          "metadata": {}
        },
        {
          "output_type": "stream",
          "name": "stdout",
          "text": [
            "Original Representation\n",
            "tensor([[[[0., 0., 0.,  ..., 0., 0., 0.],\n",
            "          [0., 0., 0.,  ..., 0., 0., 0.],\n",
            "          [0., 0., 0.,  ..., 0., 0., 0.],\n",
            "          ...,\n",
            "          [0., 0., 0.,  ..., 0., 0., 0.],\n",
            "          [0., 0., 0.,  ..., 0., 0., 0.],\n",
            "          [0., 0., 0.,  ..., 0., 0., 0.]]],\n",
            "\n",
            "\n",
            "        [[[0., 0., 0.,  ..., 0., 0., 0.],\n",
            "          [0., 0., 0.,  ..., 0., 0., 0.],\n",
            "          [0., 0., 0.,  ..., 0., 0., 0.],\n",
            "          ...,\n",
            "          [0., 0., 0.,  ..., 0., 0., 0.],\n",
            "          [0., 0., 0.,  ..., 0., 0., 0.],\n",
            "          [0., 0., 0.,  ..., 0., 0., 0.]]],\n",
            "\n",
            "\n",
            "        [[[0., 0., 0.,  ..., 0., 0., 0.],\n",
            "          [0., 0., 0.,  ..., 0., 0., 0.],\n",
            "          [0., 0., 0.,  ..., 0., 0., 0.],\n",
            "          ...,\n",
            "          [0., 0., 0.,  ..., 0., 0., 0.],\n",
            "          [0., 0., 0.,  ..., 0., 0., 0.],\n",
            "          [0., 0., 0.,  ..., 0., 0., 0.]]],\n",
            "\n",
            "\n",
            "        ...,\n",
            "\n",
            "\n",
            "        [[[0., 0., 0.,  ..., 0., 0., 0.],\n",
            "          [0., 0., 0.,  ..., 0., 0., 0.],\n",
            "          [0., 0., 0.,  ..., 0., 0., 0.],\n",
            "          ...,\n",
            "          [0., 0., 0.,  ..., 0., 0., 0.],\n",
            "          [0., 0., 0.,  ..., 0., 0., 0.],\n",
            "          [0., 0., 0.,  ..., 0., 0., 0.]]],\n",
            "\n",
            "\n",
            "        [[[0., 0., 0.,  ..., 0., 0., 0.],\n",
            "          [0., 0., 0.,  ..., 0., 0., 0.],\n",
            "          [0., 0., 0.,  ..., 0., 0., 0.],\n",
            "          ...,\n",
            "          [0., 0., 0.,  ..., 0., 0., 0.],\n",
            "          [0., 0., 0.,  ..., 0., 0., 0.],\n",
            "          [0., 0., 0.,  ..., 0., 0., 0.]]],\n",
            "\n",
            "\n",
            "        [[[0., 0., 0.,  ..., 0., 0., 0.],\n",
            "          [0., 0., 0.,  ..., 0., 0., 0.],\n",
            "          [0., 0., 0.,  ..., 0., 0., 0.],\n",
            "          ...,\n",
            "          [0., 0., 0.,  ..., 0., 0., 0.],\n",
            "          [0., 0., 0.,  ..., 0., 0., 0.],\n",
            "          [0., 0., 0.,  ..., 0., 0., 0.]]]], device='cuda:0')\n",
            "Latent space representations:\n",
            "tensor([[ 0.0000,  9.9777,  8.7341, 10.7861,  1.7260,  0.0000,  8.8830,  2.7411,\n",
            "          4.9725,  2.3373,  4.5584,  8.1426,  0.0000,  0.0000,  5.3539,  2.6822,\n",
            "          2.6955,  5.9391,  4.2034,  8.0788,  6.7153,  0.0000,  6.3442,  0.0000,\n",
            "          0.0000,  6.3518,  4.8372,  7.1744,  4.1990,  5.6852,  0.0000,  4.4284,\n",
            "          5.9855,  4.0902,  8.3909,  2.5782,  7.2300, 15.2063,  0.0000,  7.6762,\n",
            "         12.0192, 10.8994,  0.8613,  6.0632, 13.9745,  9.8093,  6.4969, 13.0345,\n",
            "          7.1876,  0.0000,  5.0845,  6.6068,  0.0000, 10.7054, 12.9668,  8.4143,\n",
            "          0.0000,  3.5185,  0.0000,  8.1677, 10.1058,  0.0000,  3.7573,  9.1119],\n",
            "        [ 0.0000,  5.3521,  6.0378,  4.0271,  0.0440,  0.0000,  6.9358,  7.6429,\n",
            "          2.8167,  1.9314,  5.2281,  3.8165,  0.0000,  0.0000,  3.1325,  7.0328,\n",
            "          5.9574,  7.0647, 11.7438,  6.0344,  3.9040,  0.0000,  6.7369,  0.0000,\n",
            "          0.0000,  4.3025,  2.2000,  7.7957,  6.5223,  4.2329,  0.0000,  5.7767,\n",
            "          4.8004,  4.8275,  3.2366,  4.9704,  8.0645, 10.1235,  0.0000,  4.6074,\n",
            "          6.7873,  6.5570,  3.1698,  6.6668,  9.6934,  6.7548,  2.2310,  6.7656,\n",
            "          1.8181,  0.0000,  7.9152,  4.2798,  0.0000,  7.9858,  6.1419,  6.8621,\n",
            "          0.0000,  4.1325,  0.0000,  7.3786,  6.0809,  0.0000,  5.3303,  6.4277],\n",
            "        [ 0.0000, 10.0709,  6.2543,  1.8748,  5.6959,  0.0000,  4.0484,  8.4962,\n",
            "          3.5703,  6.8940,  7.1417,  5.1597,  0.0000,  0.0000,  8.7458,  9.0169,\n",
            "         13.4458,  4.0139,  2.9286,  5.4324,  5.0457,  0.0000,  3.0412,  0.0000,\n",
            "          0.0000,  5.2104,  1.6008,  5.3649,  6.0842,  6.4838,  0.0000,  6.7289,\n",
            "          3.1913,  5.0966,  4.9036,  2.7758,  9.2659, 10.6773,  0.0000,  2.1369,\n",
            "         10.9696,  7.4782,  5.5072,  4.2635,  1.8228,  7.3738,  5.5396,  7.9938,\n",
            "         11.6076,  0.0000, 10.8171,  5.2572,  0.0000,  2.3945,  5.8746,  6.1627,\n",
            "          0.0000,  1.2661,  0.0000,  6.2700, 12.1740,  0.0000,  5.5646,  5.6470],\n",
            "        [ 0.0000,  5.7226,  8.2998,  4.9684,  4.7463,  0.0000,  3.4818,  3.8179,\n",
            "          3.8637,  1.5774,  7.1640,  5.7411,  0.0000,  0.0000,  1.8556,  3.0880,\n",
            "          3.7329,  3.0506,  6.5550,  6.3607,  3.2787,  0.0000,  7.4850,  0.0000,\n",
            "          0.0000,  3.8093,  1.3881,  6.0975,  2.2556,  2.0838,  0.0000,  4.9316,\n",
            "          1.8288,  1.4544,  4.5468,  6.7535,  1.2382,  6.5642,  0.0000,  6.8437,\n",
            "          2.1746,  5.4006,  6.8274,  3.9212,  6.0491,  4.1427,  0.1889,  2.7934,\n",
            "          1.9058,  0.0000,  1.8875,  3.0080,  0.0000,  1.9560,  4.6379,  3.9660,\n",
            "          0.0000,  2.6676,  0.0000,  4.9936,  4.0106,  0.0000,  0.9620,  5.9816]],\n",
            "       device='cuda:0')\n"
          ]
        }
      ]
    }
  ]
}